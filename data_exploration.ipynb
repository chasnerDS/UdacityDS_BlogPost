{
 "cells": [
  {
   "cell_type": "code",
   "execution_count": 14,
   "id": "736d42de-c89c-4b33-9da9-3953b031b43e",
   "metadata": {},
   "outputs": [],
   "source": [
    "#import numpy as np\n",
    "#import pandas as pd\n",
    "#import matplotlib.pyplot as plt\n",
    "#from sklearn.linear_model import LinearRegression\n",
    "#from sklearn.model_selection import train_test_split\n",
    "#from sklearn.metrics import r2_score, mean_squared_error\n",
    "#import AllTogether as t\n",
    "import seaborn as sns\n",
    "#%matplotlib inline"
   ]
  },
  {
   "cell_type": "markdown",
   "id": "b69a44e7",
   "metadata": {},
   "source": [
    "<h3> Loading and exploring the Seattle Airbnb Data </h3>\n",
    "\n",
    "In this first section, we are going to load and explore the Seattle Airbnb Data set. The aim is to identify the most important features which we can use to answer the business questions given above."
   ]
  },
  {
   "cell_type": "code",
   "execution_count": 25,
   "id": "dec751f8",
   "metadata": {},
   "outputs": [
    {
     "name": "stdout",
     "output_type": "stream",
     "text": [
      "   listing_id        date available   price\n",
      "0      241032  2016-01-04         t  $85.00\n",
      "1      241032  2016-01-05         t  $85.00\n",
      "2      241032  2016-01-06         f     NaN\n",
      "3      241032  2016-01-07         f     NaN\n",
      "4      241032  2016-01-08         f     NaN\n",
      "        id                           listing_url       scrape_id last_scraped  \\\n",
      "0   241032   https://www.airbnb.com/rooms/241032  20160104002432   2016-01-04   \n",
      "1   953595   https://www.airbnb.com/rooms/953595  20160104002432   2016-01-04   \n",
      "2  3308979  https://www.airbnb.com/rooms/3308979  20160104002432   2016-01-04   \n",
      "3  7421966  https://www.airbnb.com/rooms/7421966  20160104002432   2016-01-04   \n",
      "4   278830   https://www.airbnb.com/rooms/278830  20160104002432   2016-01-04   \n",
      "\n",
      "                                  name  \\\n",
      "0         Stylish Queen Anne Apartment   \n",
      "1   Bright & Airy Queen Anne Apartment   \n",
      "2  New Modern House-Amazing water view   \n",
      "3                   Queen Anne Chateau   \n",
      "4       Charming craftsman 3 bdm house   \n",
      "\n",
      "                                             summary  \\\n",
      "0                                                NaN   \n",
      "1  Chemically sensitive? We've removed the irrita...   \n",
      "2  New modern house built in 2013.  Spectacular s...   \n",
      "3  A charming apartment that sits atop Queen Anne...   \n",
      "4  Cozy family craftman house in beautiful neighb...   \n",
      "\n",
      "                                               space  \\\n",
      "0  Make your self at home in this charming one-be...   \n",
      "1  Beautiful, hypoallergenic apartment in an extr...   \n",
      "2  Our house is modern, light and fresh with a wa...   \n",
      "3                                                NaN   \n",
      "4  Cozy family craftman house in beautiful neighb...   \n",
      "\n",
      "                                         description experiences_offered  \\\n",
      "0  Make your self at home in this charming one-be...                none   \n",
      "1  Chemically sensitive? We've removed the irrita...                none   \n",
      "2  New modern house built in 2013.  Spectacular s...                none   \n",
      "3  A charming apartment that sits atop Queen Anne...                none   \n",
      "4  Cozy family craftman house in beautiful neighb...                none   \n",
      "\n",
      "                               neighborhood_overview  ... review_scores_value  \\\n",
      "0                                                NaN  ...                10.0   \n",
      "1  Queen Anne is a wonderful, truly functional vi...  ...                10.0   \n",
      "2  Upper Queen Anne is a charming neighborhood fu...  ...                10.0   \n",
      "3                                                NaN  ...                 NaN   \n",
      "4  We are in the beautiful neighborhood of Queen ...  ...                 9.0   \n",
      "\n",
      "  requires_license license jurisdiction_names instant_bookable  \\\n",
      "0                f     NaN         WASHINGTON                f   \n",
      "1                f     NaN         WASHINGTON                f   \n",
      "2                f     NaN         WASHINGTON                f   \n",
      "3                f     NaN         WASHINGTON                f   \n",
      "4                f     NaN         WASHINGTON                f   \n",
      "\n",
      "  cancellation_policy  require_guest_profile_picture  \\\n",
      "0            moderate                              f   \n",
      "1              strict                              t   \n",
      "2              strict                              f   \n",
      "3            flexible                              f   \n",
      "4              strict                              f   \n",
      "\n",
      "  require_guest_phone_verification calculated_host_listings_count  \\\n",
      "0                                f                              2   \n",
      "1                                t                              6   \n",
      "2                                f                              2   \n",
      "3                                f                              1   \n",
      "4                                f                              1   \n",
      "\n",
      "  reviews_per_month  \n",
      "0              4.07  \n",
      "1              1.48  \n",
      "2              1.15  \n",
      "3               NaN  \n",
      "4              0.89  \n",
      "\n",
      "[5 rows x 92 columns]\n",
      "   listing_id        id        date  reviewer_id reviewer_name  \\\n",
      "0     7202016  38917982  2015-07-19     28943674        Bianca   \n",
      "1     7202016  39087409  2015-07-20     32440555         Frank   \n",
      "2     7202016  39820030  2015-07-26     37722850           Ian   \n",
      "3     7202016  40813543  2015-08-02     33671805        George   \n",
      "4     7202016  41986501  2015-08-10     34959538          Ming   \n",
      "\n",
      "                                            comments  \n",
      "0  Cute and cozy place. Perfect location to every...  \n",
      "1  Kelly has a great room in a very central locat...  \n",
      "2  Very spacious apartment, and in a great neighb...  \n",
      "3  Close to Seattle Center and all it has to offe...  \n",
      "4  Kelly was a great host and very accommodating ...  \n"
     ]
    }
   ],
   "source": [
    "df_seattle_calendar = pd.read_csv('./seattle_airbnb_data/calendar.csv')\n",
    "df_seattle_listings = pd.read_csv('./seattle_airbnb_data/listings.csv')\n",
    "df_seattle_reviews = pd.read_csv('./seattle_airbnb_data/reviews.csv')\n",
    "\n",
    "print(df_seattle_calendar.head())\n",
    "print(df_seattle_listings.head())\n",
    "print(df_seattle_reviews.head())"
   ]
  },
  {
   "cell_type": "code",
   "execution_count": 23,
   "id": "1d46e5e7",
   "metadata": {},
   "outputs": [
    {
     "data": {
      "text/html": [
       "<div>\n",
       "<style scoped>\n",
       "    .dataframe tbody tr th:only-of-type {\n",
       "        vertical-align: middle;\n",
       "    }\n",
       "\n",
       "    .dataframe tbody tr th {\n",
       "        vertical-align: top;\n",
       "    }\n",
       "\n",
       "    .dataframe thead th {\n",
       "        text-align: right;\n",
       "    }\n",
       "</style>\n",
       "<table border=\"1\" class=\"dataframe\">\n",
       "  <thead>\n",
       "    <tr style=\"text-align: right;\">\n",
       "      <th></th>\n",
       "      <th>listing_id</th>\n",
       "      <th>date</th>\n",
       "      <th>available</th>\n",
       "      <th>price</th>\n",
       "    </tr>\n",
       "  </thead>\n",
       "  <tbody>\n",
       "    <tr>\n",
       "      <th>0</th>\n",
       "      <td>12147973</td>\n",
       "      <td>2017-09-05</td>\n",
       "      <td>f</td>\n",
       "      <td>NaN</td>\n",
       "    </tr>\n",
       "    <tr>\n",
       "      <th>1</th>\n",
       "      <td>12147973</td>\n",
       "      <td>2017-09-04</td>\n",
       "      <td>f</td>\n",
       "      <td>NaN</td>\n",
       "    </tr>\n",
       "    <tr>\n",
       "      <th>2</th>\n",
       "      <td>12147973</td>\n",
       "      <td>2017-09-03</td>\n",
       "      <td>f</td>\n",
       "      <td>NaN</td>\n",
       "    </tr>\n",
       "    <tr>\n",
       "      <th>3</th>\n",
       "      <td>12147973</td>\n",
       "      <td>2017-09-02</td>\n",
       "      <td>f</td>\n",
       "      <td>NaN</td>\n",
       "    </tr>\n",
       "    <tr>\n",
       "      <th>4</th>\n",
       "      <td>12147973</td>\n",
       "      <td>2017-09-01</td>\n",
       "      <td>f</td>\n",
       "      <td>NaN</td>\n",
       "    </tr>\n",
       "  </tbody>\n",
       "</table>\n",
       "</div>"
      ],
      "text/plain": [
       "   listing_id        date available price\n",
       "0    12147973  2017-09-05         f   NaN\n",
       "1    12147973  2017-09-04         f   NaN\n",
       "2    12147973  2017-09-03         f   NaN\n",
       "3    12147973  2017-09-02         f   NaN\n",
       "4    12147973  2017-09-01         f   NaN"
      ]
     },
     "execution_count": 23,
     "metadata": {},
     "output_type": "execute_result"
    }
   ],
   "source": [
    "df_boston = pd.read_csv('./boston_airbnb_data/calendar.csv')\n",
    "df_boston.head()"
   ]
  },
  {
   "cell_type": "code",
   "execution_count": 22,
   "id": "429336f2",
   "metadata": {},
   "outputs": [
    {
     "data": {
      "text/plain": [
       "(3585, 95)"
      ]
     },
     "execution_count": 22,
     "metadata": {},
     "output_type": "execute_result"
    }
   ],
   "source": [
    "df_boston.shape"
   ]
  },
  {
   "cell_type": "code",
   "execution_count": null,
   "id": "59f3e5e6",
   "metadata": {},
   "outputs": [],
   "source": []
  }
 ],
 "metadata": {
  "kernelspec": {
   "display_name": "Python 3 (ipykernel)",
   "language": "python",
   "name": "python3"
  },
  "language_info": {
   "codemirror_mode": {
    "name": "ipython",
    "version": 3
   },
   "file_extension": ".py",
   "mimetype": "text/x-python",
   "name": "python",
   "nbconvert_exporter": "python",
   "pygments_lexer": "ipython3",
   "version": "3.9.6"
  }
 },
 "nbformat": 4,
 "nbformat_minor": 5
}
